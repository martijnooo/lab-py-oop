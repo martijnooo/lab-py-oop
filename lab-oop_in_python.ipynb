{
 "cells": [
  {
   "cell_type": "markdown",
   "metadata": {},
   "source": [
    "# LAB | Object-Oriented Programming (OOP) in Python"
   ]
  },
  {
   "cell_type": "markdown",
   "metadata": {},
   "source": [
    "## Overview\n",
    "This exercise notebook will help you practice Object-Oriented Programming concepts in Python. You will create classes, instantiate objects, and use inheritance to build more complex structures.\n",
    "\n",
    "## Instructions\n",
    "- Complete each exercise by writing the appropriate code in the provided space.\n",
    "- Test your code to ensure it works as expected.\n",
    "- Use the hints provided if you get stuck."
   ]
  },
  {
   "cell_type": "markdown",
   "metadata": {},
   "source": [
    "### Exercise 1: Create a Class with Instance Attributes\n",
    "Write a Python program to create a `Vehicle` class with `max_speed` and `mileage` instance attributes."
   ]
  },
  {
   "cell_type": "code",
   "execution_count": 37,
   "metadata": {},
   "outputs": [
    {
     "name": "stdout",
     "output_type": "stream",
     "text": [
      "250 10000\n"
     ]
    }
   ],
   "source": [
    "# Your code here\n",
    "class Vehicle:\n",
    "    # Hint: Define __init__ method with parameters for max_speed and mileage\n",
    "    def __init__(self, max_speed, mileage, fare = 0):\n",
    "        self.max_speed = max_speed\n",
    "        self.mileage = mileage\n",
    "        self.fare_price = fare\n",
    "    \n",
    "    def fare(self, new_fare):\n",
    "        self.fare_price = new_fare\n",
    "\n",
    "\n",
    "# Example instantiation\n",
    "modelX = Vehicle(250, 10000)  # Create an instance of Vehicle\n",
    "\n",
    "# Print attributes\n",
    "print(modelX.max_speed, modelX.mileage)  # Expected output: (value of max_speed, value of mileage)"
   ]
  },
  {
   "cell_type": "code",
   "execution_count": 2,
   "metadata": {},
   "outputs": [
    {
     "data": {
      "text/plain": [
       "10"
      ]
     },
     "execution_count": 2,
     "metadata": {},
     "output_type": "execute_result"
    }
   ],
   "source": [
    "modelX.fare(10)\n",
    "modelX.fare_price"
   ]
  },
  {
   "cell_type": "markdown",
   "metadata": {},
   "source": [
    "### Exercise 2: Create a Vehicle Class Without Any Variables and Methods\n",
    "Create a `Vehicle` class without any variables or methods."
   ]
  },
  {
   "cell_type": "code",
   "execution_count": 13,
   "metadata": {},
   "outputs": [
    {
     "name": "stdout",
     "output_type": "stream",
     "text": [
      "<class '__main__.Vehicle'>\n"
     ]
    }
   ],
   "source": [
    "# Your code here\n",
    "class Vehicle:\n",
    "    pass\n",
    "\n",
    "# Example instantiation\n",
    "my_vehicle = Vehicle()\n",
    "print(type(my_vehicle))  # Expected output: <class '__main__.Vehicle'>"
   ]
  },
  {
   "cell_type": "markdown",
   "metadata": {},
   "source": [
    "### Exercise 3: Create a Child Class Bus\n",
    "Create a child class `Bus` that will inherit all of the variables and methods of the `Vehicle` class."
   ]
  },
  {
   "cell_type": "code",
   "execution_count": 39,
   "metadata": {},
   "outputs": [
    {
     "data": {
      "text/plain": [
       "__main__.Bus"
      ]
     },
     "execution_count": 39,
     "metadata": {},
     "output_type": "execute_result"
    }
   ],
   "source": [
    "class Bus(Vehicle):\n",
    "    pass\n",
    "    # def __init__(self, max_speed, mileage):\n",
    "    #     super().__init__(max_speed,mileage)\n",
    "\n",
    "bus = Bus(150, 1000)\n",
    "type(bus)"
   ]
  },
  {
   "cell_type": "code",
   "execution_count": 6,
   "metadata": {},
   "outputs": [
    {
     "data": {
      "text/plain": [
       "0"
      ]
     },
     "execution_count": 6,
     "metadata": {},
     "output_type": "execute_result"
    }
   ],
   "source": [
    "bus.fare_price"
   ]
  },
  {
   "cell_type": "code",
   "execution_count": 6,
   "metadata": {},
   "outputs": [
    {
     "name": "stdout",
     "output_type": "stream",
     "text": [
      "<class '__main__.Bus'>\n"
     ]
    }
   ],
   "source": [
    "# Your code here\n",
    "class Bus(Vehicle):\n",
    "    pass\n",
    "# \n",
    "# Example instantiation\n",
    "school_bus = Bus()\n",
    "print(type(school_bus))  # Expected output: <class '__main__.Bus'>"
   ]
  },
  {
   "cell_type": "markdown",
   "metadata": {},
   "source": [
    "### Exercise 4: Class Inheritance with Method Overriding\n",
    "Create a `Bus` class that inherits from the `Vehicle` class. Override the `fare()` method to include an extra charge for maintenance."
   ]
  },
  {
   "cell_type": "code",
   "execution_count": 42,
   "metadata": {},
   "outputs": [
    {
     "data": {
      "text/plain": [
       "25"
      ]
     },
     "execution_count": 42,
     "metadata": {},
     "output_type": "execute_result"
    }
   ],
   "source": [
    "class Bus(Vehicle):\n",
    "    def fare(self, new_fare):\n",
    "        super().fare(new_fare)  # Call the parent class method to set the fare_price\n",
    "        self.fare_price += 20   # Add the additional fare for the bus\n",
    "\n",
    "bus = Bus(100, 50000)\n",
    "bus.fare(5)\n",
    "bus.fare_price"
   ]
  },
  {
   "cell_type": "code",
   "execution_count": 32,
   "metadata": {},
   "outputs": [
    {
     "name": "stdout",
     "output_type": "stream",
     "text": [
      "Base fare with extra\n"
     ]
    }
   ],
   "source": [
    "# Your code here\n",
    "class Vehicle:\n",
    "    def fare(self):\n",
    "        return \"Base fare\"\n",
    "\n",
    "class Bus(Vehicle):\n",
    "    # Hint: Override fare method to include extra charges\n",
    "    def fare(self):\n",
    "        return \"Base fare with extra\"\n",
    "\n",
    "school_bus = Bus()\n",
    "print(school_bus.fare())  # Expected output: \"Base fare with extra charge\""
   ]
  },
  {
   "cell_type": "markdown",
   "metadata": {},
   "source": [
    "### Exercise 5: Define a Class Attribute\n",
    "Define a property that must have the same value for every class instance (object). Set a default value for `color`."
   ]
  },
  {
   "cell_type": "code",
   "execution_count": 44,
   "metadata": {},
   "outputs": [
    {
     "name": "stdout",
     "output_type": "stream",
     "text": [
      "Black\n"
     ]
    }
   ],
   "source": [
    "class Vehicle:\n",
    "    color = \"Black\"\n",
    "\n",
    "    def __init__(self, name, max_speed, mileage):\n",
    "        self.name = name\n",
    "        self.max_speed = max_speed\n",
    "        self.mileage = mileage\n",
    "\n",
    "bus = Vehicle(\"School Bus\", 100, 18)\n",
    "print(school_bus.color)  # Expected output: \"Black\"\n",
    "        "
   ]
  },
  {
   "cell_type": "code",
   "execution_count": 5,
   "metadata": {},
   "outputs": [
    {
     "name": "stdout",
     "output_type": "stream",
     "text": [
      "White\n"
     ]
    }
   ],
   "source": [
    "# Your code here\n",
    "class Vehicle:\n",
    "    color = \"White\"  # Hint: Define color as a class attribute\n",
    "\n",
    "    def __init__(self, name, max_speed, mileage):\n",
    "        self.name = name\n",
    "        self.max_speed = max_speed\n",
    "        self.mileage = mileage\n",
    "\n",
    "school_bus = Vehicle(\"School Volvo\", 180, 12)\n",
    "print(school_bus.color)  # Expected output: \"White\""
   ]
  },
  {
   "cell_type": "markdown",
   "metadata": {},
   "source": [
    "### Exercise 6: Class Inheritance with Default Fare Calculation\n",
    "Create a `Bus` child class that inherits from the `Vehicle` class. The default fare charge of any vehicle is `seating capacity * 100`. If the vehicle is a bus instance, add an extra 10% on the full fare as a maintenance charge."
   ]
  },
  {
   "cell_type": "code",
   "execution_count": 69,
   "metadata": {},
   "outputs": [
    {
     "name": "stdout",
     "output_type": "stream",
     "text": [
      "{'seating_capacity': 5}\n"
     ]
    },
    {
     "data": {
      "text/plain": [
       "550.0"
      ]
     },
     "execution_count": 69,
     "metadata": {},
     "output_type": "execute_result"
    }
   ],
   "source": [
    "# SOLUTION 1 with fare function\n",
    "class Vehicle:\n",
    "    def __init__(self, seating_capacity):\n",
    "        self.seating_capacity = seating_capacity\n",
    "    \n",
    "    def fare(self):\n",
    "        return self.seating_capacity * 100\n",
    "    \n",
    "class Bus(Vehicle):\n",
    "\n",
    "    def fare(self):\n",
    "        return super().fare() * 1.1\n",
    "    \n",
    "bus = Bus(5)\n",
    "print(vars(bus))\n",
    "bus.fare()\n"
   ]
  },
  {
   "cell_type": "code",
   "execution_count": 72,
   "metadata": {},
   "outputs": [
    {
     "name": "stdout",
     "output_type": "stream",
     "text": [
      "{'seating_capacity': 100, 'cost': 11000.0} + {'seating_capacity': 5, 'cost': 500}\n"
     ]
    },
    {
     "data": {
      "text/plain": [
       "11000.0"
      ]
     },
     "execution_count": 72,
     "metadata": {},
     "output_type": "execute_result"
    }
   ],
   "source": [
    "# Solution 2 without function\n",
    "class Vehicle:\n",
    "    def __init__(self, seating_capacity):\n",
    "        self.seating_capacity = seating_capacity\n",
    "        self.cost = seating_capacity * 100\n",
    "    \n",
    "class Bus(Vehicle):\n",
    "    def __init__(self, seating_capacity):\n",
    "        super().__init__(seating_capacity) \n",
    "        self.cost *= 1.1 \n",
    "\n",
    "car = Vehicle(5)\n",
    "bus2 = Bus(100)\n",
    "print(f\"{vars(bus2)} + {vars(car)}\")\n",
    "bus2.cost"
   ]
  },
  {
   "cell_type": "code",
   "execution_count": 74,
   "metadata": {},
   "outputs": [
    {
     "name": "stdout",
     "output_type": "stream",
     "text": [
      "Total Bus fare is: 5500.0\n"
     ]
    }
   ],
   "source": [
    "# Your code here\n",
    "class Vehicle:\n",
    "    def __init__(self, name, mileage, capacity):\n",
    "        self.name = name\n",
    "        self.mileage = mileage\n",
    "        self.capacity = capacity\n",
    "\n",
    "    def fare(self):\n",
    "        return self.capacity * 100\n",
    "\n",
    "class Bus(Vehicle):\n",
    "    # Hint: Override fare method to include maintenance charge\n",
    "    def fare(self):\n",
    "        return super().fare() * 1.1\n",
    "\n",
    "school_bus = Bus(\"School Volvo\", 12, 50)\n",
    "print(\"Total Bus fare is:\", school_bus.fare())  # Expected output: Total Bus fare is: (calculated amount)"
   ]
  },
  {
   "cell_type": "markdown",
   "metadata": {},
   "source": [
    "### Exercise 7: Check Type of an Object\n",
    "Write a program to determine which class a given object belongs to."
   ]
  },
  {
   "cell_type": "code",
   "execution_count": 75,
   "metadata": {},
   "outputs": [
    {
     "name": "stdout",
     "output_type": "stream",
     "text": [
      "<class '__main__.Bus'>\n"
     ]
    }
   ],
   "source": [
    "# Your code here\n",
    "school_bus = Bus(\"School Volvo\", 12, 50)\n",
    "print(type(school_bus))  # Expected output: <class '__main__.Bus'>"
   ]
  },
  {
   "cell_type": "markdown",
   "metadata": {},
   "source": [
    "### Exercise 8: Check Instance of Class \n",
    "Determine if `school_bus` is also an instance of the `Vehicle` class.\n"
   ]
  },
  {
   "cell_type": "code",
   "execution_count": 76,
   "metadata": {},
   "outputs": [
    {
     "name": "stdout",
     "output_type": "stream",
     "text": [
      "True\n"
     ]
    }
   ],
   "source": [
    "# Your code here\n",
    "print(isinstance(school_bus, Vehicle))  # Expected output: True or False based on inheritance"
   ]
  },
  {
   "cell_type": "markdown",
   "metadata": {},
   "source": [
    "### Exercise Completion  \n",
    "Once you have completed all exercises:\n",
    "- Review your solutions.\n",
    "- Ensure your code is well-documented with comments explaining your logic.\n",
    "- Save your notebook for submission or further review.\n",
    "\n",
    "Happy coding! Enjoy exploring Object-Oriented Programming with Python!\n"
   ]
  }
 ],
 "metadata": {
  "kernelspec": {
   "display_name": "datasci_env",
   "language": "python",
   "name": "python3"
  },
  "language_info": {
   "codemirror_mode": {
    "name": "ipython",
    "version": 3
   },
   "file_extension": ".py",
   "mimetype": "text/x-python",
   "name": "python",
   "nbconvert_exporter": "python",
   "pygments_lexer": "ipython3",
   "version": "3.8.20"
  }
 },
 "nbformat": 4,
 "nbformat_minor": 2
}
